{
 "cells": [
  {
   "cell_type": "code",
   "execution_count": 2,
   "id": "aec8c668",
   "metadata": {},
   "outputs": [],
   "source": [
    "# !pip install biobox"
   ]
  },
  {
   "cell_type": "code",
   "execution_count": 1,
   "id": "6803f186",
   "metadata": {},
   "outputs": [],
   "source": [
    "import biobox as bb\n",
    "import numpy as np\n",
    "import os"
   ]
  },
  {
   "cell_type": "code",
   "execution_count": 2,
   "id": "001573d5",
   "metadata": {},
   "outputs": [],
   "source": [
    "pdb_file = 'Example/Lysozyme/Lysozyme.pdb'"
   ]
  },
  {
   "cell_type": "code",
   "execution_count": 3,
   "id": "03241443",
   "metadata": {},
   "outputs": [
    {
     "name": "stdout",
     "output_type": "stream",
     "text": [
      "File exists: '/home/josh/Documents/CarbonaraDev/CarbonARA/Fitting'\n"
     ]
    }
   ],
   "source": [
    "current = os.getcwd()\n",
    "working = 'Fitting'\n",
    "working_path = os.path.join(current, working)\n",
    "try:\n",
    "    os.mkdir(working_path)\n",
    "    print('Making directory ', working_path)\n",
    "except OSError as error:\n",
    "    print(str(error)[11:])\n",
    "\n",
    "\n",
    "aa_names = {\n",
    "        'A': 'ALA', 'C': 'CYS', 'D': 'ASP', 'E': 'GLU',\n",
    "        'F': 'PHE', 'G': 'GLY', 'H': 'HIS', 'I': 'ILE',\n",
    "        'K': 'LYS', 'L': 'LEU', 'M': 'MET', 'N': 'ASN',\n",
    "        'P': 'PRO', 'Q': 'GLN', 'R': 'ARG', 'S': 'SER',\n",
    "        'T': 'THR', 'V': 'VAL', 'W': 'TRP', 'Y': 'TYR'\n",
    "    }\n",
    "\n",
    "names_aa = {y: x for x, y in aa_names.items()}\n",
    "\n",
    "\n",
    "def pdb_2_biobox(pdb_file):\n",
    "    M = bb.Molecule()\n",
    "    M.import_pdb(pdb_file)\n",
    "    return M\n",
    "\n",
    "\n",
    "def extract_CA_coordinates(M):\n",
    "    ca_idx = (M.data['name']=='CA').values\n",
    "    ca_coords = M.coordinates[0][ca_idx]\n",
    "    \n",
    "    if ca_coords.shape[0] != M.data['resid'].nunique():\n",
    "        raise Exception(\"You better check your PDB... The number of CA atoms does not equal the number of ResIDs in your PDB file!\") \n",
    "    else:\n",
    "        return ca_coords\n",
    "\n",
    "    \n",
    "def extract_sequence(M):\n",
    "    ca_idx = (M.data['name']=='CA').values\n",
    "    resnames = M.data['resname'][ca_idx].map(names_aa).values\n",
    "    \n",
    "    if resnames.shape[0] != M.data['resid'].nunique():\n",
    "        raise Exception(\"You better check your PDB... The number of CA atoms does not equal the number of ResIDs in your PDB file!\") \n",
    "    else:\n",
    "        return resnames\n",
    "\n",
    "\n",
    "# def sequence_2_secondary(sequence):\n",
    "    # Run some form of DSSP\n",
    "    # Map output to simplistic (a, b, l) ss\n",
    "    # return secondary structure\n",
    "    \n",
    "\n",
    "def write_fingerprint_file(number_chains, sequence, secondary_structure):\n",
    "    \n",
    "    assert isinstance(number_chains, int), 'Yikes... The number of chains is not int type!'\n",
    "    \n",
    "    seq_run = ''.join(list(sequence))\n",
    "    ss_run = ''.join(list(secondary_structure))\n",
    "    \n",
    "    if len(seq_run) != len(ss_run):\n",
    "        raise Exception(\"Uh Oh... The length of sequence and secondary structure is not equal!\") \n",
    "    \n",
    "    f = open(working_path+\"/fingerprint.dat\", \"w\")\n",
    "    f.write(str(number_chains))\n",
    "    f.write('\\n \\n')\n",
    "    f.write(seq_run)\n",
    "    f.write('\\n \\n')\n",
    "    f.write(ss_run)\n",
    "    f.close()\n",
    "    \n",
    "    \n",
    "def write_coordinates_file(ca_coords):\n",
    "    \n",
    "    assert type(coords).__module__ == np.__name__, 'Thats never good... the CA coordinates are not a numpy array'\n",
    "    np.savetxt(working_path+'/coordinates.dat', coords, delimiter=' ', fmt='%s',newline='\\n', header='', footer='')\n",
    "    \n",
    "    \n",
    "def write_mixture_file(default=True):\n",
    "    if default:\n",
    "        f = open(working_path+\"/mixtureFile.dat\", \"w\")\n",
    "        f.write(str(1))\n",
    "        \n",
    "#     else:\n",
    "#          copy input file\n",
    "\n",
    "\n",
    "# def write_varysections_file():\n",
    "#     auto: run beta sheet breaking code; write output sections to file\n",
    "#     explicit: copy user defined file\n",
    "\n",
    "\n",
    "# def write_saxs():\n",
    "#     copy user defined saxs file\n",
    "#     options: trim?"
   ]
  },
  {
   "cell_type": "code",
   "execution_count": 4,
   "id": "35ef0ed4",
   "metadata": {},
   "outputs": [],
   "source": [
    "M = pdb_2_biobox('Example/Lysozyme/Lysozyme.pdb')\n",
    "coords = extract_CA_coordinates(M)\n",
    "sequence = extract_sequence(M)\n",
    "\n",
    "write_fingerprint_file(3, sequence, ['-']*len(sequence))\n",
    "write_coordinates_file(coords)\n",
    "\n",
    "write_mixture_file()"
   ]
  },
  {
   "cell_type": "code",
   "execution_count": 87,
   "id": "0d5d2b73",
   "metadata": {},
   "outputs": [],
   "source": []
  },
  {
   "cell_type": "code",
   "execution_count": 5,
   "id": "156886c7",
   "metadata": {},
   "outputs": [],
   "source": [
    "def section_finder(ss):\n",
    "    \n",
    "    '''Find protein sub-unit sections from the full secondary structure'''\n",
    "    \n",
    "    sections = []\n",
    "    structure_change = np.diff(np.unique(ss, return_inverse=True)[1])\n",
    "\n",
    "    for i, c in enumerate( structure_change ):\n",
    "\n",
    "        if c!=0:\n",
    "            sections.append(ss[i])\n",
    "\n",
    "        if i==structure_change.shape[0]-1:\n",
    "            sections.append(ss[i])\n",
    "            \n",
    "    sections = np.array(sections)\n",
    "    \n",
    "    return sections #, linker_indices #, structure_change\n",
    "\n",
    "\n",
    "def find_linker_indices(sections):\n",
    "    \n",
    "    '''Find linker sub-unit section indices'''\n",
    "    \n",
    "    linker_indices = np.where(sections=='-')[0]\n",
    "    return linker_indices\n",
    "\n",
    "\n",
    "def find_sheet_indices(sections):\n",
    "    \n",
    "    '''Find sheet sub-unit section indices'''\n",
    "\n",
    "    sheet_indices = np.where(sections=='S')[0]\n",
    "    return sheet_indices"
   ]
  },
  {
   "cell_type": "code",
   "execution_count": 6,
   "id": "c33a915c",
   "metadata": {},
   "outputs": [],
   "source": [
    "def generate_random_structures(coords_file, fingerprint_file, linker_indices):\n",
    "    \n",
    "    '''Generate random structures changing one linker section at a time\n",
    "    \n",
    "    Parameters\n",
    "    coords_file:       /path/ to CA coordinates.dat file\n",
    "    fingerprint_file:  /path/ to fingerprint.dat file\n",
    "    linker_indices:    Indices of linker sub-unit sections of protein\n",
    "    \n",
    "    Return\n",
    "    Generated structures are written to ~/rand_structures/.. section_*LINKERINDEX*.dat as xyz\n",
    "    ''' \n",
    "    \n",
    "    current = os.getcwd()\n",
    "    random = 'rand_structures'\n",
    "    random_working = os.path.join(current, random)\n",
    "\n",
    "    try:\n",
    "        os.mkdir(random_working)\n",
    "    except OSError as error:\n",
    "        print(str(error)[11:])\n",
    "\n",
    "    # linker_indices = linker_prep(coords_file, fingerprint_file)\n",
    "    \n",
    "    print('Beginning random structures generation \\n')\n",
    "    for l in tqdm(linker_indices):\n",
    "        \n",
    "        outputname = '/section_'+str(l)\n",
    "        !./generate_structure {fingerprint_file} {coords_file} {random_working}{outputname} {l}\n",
    "        \n",
    "    print('')\n",
    "    print('Finished generating random structures')"
   ]
  },
  {
   "cell_type": "code",
   "execution_count": 8,
   "id": "a4de6694",
   "metadata": {},
   "outputs": [],
   "source": [
    "secondary = 'TestBed/human_SMARCAL2/fingerPrint1.dat'"
   ]
  },
  {
   "cell_type": "code",
   "execution_count": 9,
   "id": "5d4f3281",
   "metadata": {},
   "outputs": [
    {
     "data": {
      "text/plain": [
       "array([ 1., nan, nan])"
      ]
     },
     "execution_count": 9,
     "metadata": {},
     "output_type": "execute_result"
    }
   ],
   "source": [
    "np.(secondary)"
   ]
  },
  {
   "cell_type": "code",
   "execution_count": null,
   "id": "1a8bdc0f",
   "metadata": {},
   "outputs": [],
   "source": [
    "sections = section_finder(secondary)\n",
    "# linker_indices = find_linker_indices(sections)"
   ]
  }
 ],
 "metadata": {
  "kernelspec": {
   "display_name": "Python 3 (ipykernel)",
   "language": "python",
   "name": "python3"
  },
  "language_info": {
   "codemirror_mode": {
    "name": "ipython",
    "version": 3
   },
   "file_extension": ".py",
   "mimetype": "text/x-python",
   "name": "python",
   "nbconvert_exporter": "python",
   "pygments_lexer": "ipython3",
   "version": "3.9.13"
  }
 },
 "nbformat": 4,
 "nbformat_minor": 5
}
